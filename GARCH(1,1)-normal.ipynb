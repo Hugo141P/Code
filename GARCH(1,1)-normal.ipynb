{
 "cells": [
  {
   "cell_type": "code",
   "execution_count": 1,
   "metadata": {
    "cell_id": "4c7cdc6c85e6426198aa3f7766970854",
    "deepnote_cell_type": "code",
    "deepnote_to_be_reexecuted": false,
    "execution_millis": 700,
    "execution_start": 1717236183140,
    "source_hash": null
   },
   "outputs": [
    {
     "name": "stderr",
     "output_type": "stream",
     "text": [
      "C:\\Users\\Hugo\\anaconda3\\lib\\site-packages\\scipy\\__init__.py:146: UserWarning: A NumPy version >=1.16.5 and <1.23.0 is required for this version of SciPy (detected version 1.26.4\n",
      "  warnings.warn(f\"A NumPy version >={np_minversion} and <{np_maxversion}\"\n"
     ]
    }
   ],
   "source": [
    "import numpy as np\n",
    "import pandas as pd\n",
    "from scipy.optimize import fmin_slsqp\n",
    "import matplotlib.pyplot as plt"
   ]
  },
  {
   "cell_type": "code",
   "execution_count": 2,
   "metadata": {
    "cell_id": "3772a0d5e4b94875a7143264bc3ccbf2",
    "deepnote_cell_type": "code",
    "deepnote_to_be_reexecuted": false,
    "execution_millis": 225,
    "execution_start": 1717236183845,
    "source_hash": null
   },
   "outputs": [],
   "source": [
    "SP500data = pd.read_csv('SP500_1998-2007.csv')['Close']\n",
    "\n",
    "length_data = len(SP500data)\n",
    "SP500returns = 100 * (np.array(np.log(SP500data[1:length_data]))-np.array(np.log(SP500data[0:length_data-1])))"
   ]
  },
  {
   "cell_type": "code",
   "execution_count": 3,
   "metadata": {
    "cell_id": "c79e80a8f3d44a04961f80dae6c246aa",
    "deepnote_cell_type": "code",
    "deepnote_to_be_reexecuted": false,
    "execution_millis": 59,
    "execution_start": 1717236267759,
    "source_hash": null
   },
   "outputs": [],
   "source": [
    "#logpdf_array is an array with the loglikelihood value of every return observation given the conditional variance\n",
    "#to get the total loglikelihood, this array is summed in the LLGARCH function\n",
    "def logpdf_normal(theta, returns, cond_variance):\n",
    "    logpdf_array = -0.5 * (np.log(2*np.pi) + np.log(cond_variance) + returns**2 / cond_variance)\n",
    "    return logpdf_array\n",
    "\n",
    "def logpdf(theta, dist, returns, cond_variance):\n",
    "    if dist == 'normal':\n",
    "        return logpdf_normal(theta, returns, cond_variance)"
   ]
  },
  {
   "cell_type": "code",
   "execution_count": 4,
   "metadata": {
    "cell_id": "f49bf96b96a5454b8d42d57db6d0df96",
    "deepnote_cell_type": "code",
    "deepnote_to_be_reexecuted": false,
    "execution_millis": 89,
    "execution_start": 1717236860792,
    "source_hash": null
   },
   "outputs": [],
   "source": [
    "#you can keep the calculation of the cond variance in the LLGARCH function, but creating it's owning function for this\n",
    "#may be usefull for plotting (and other uses in the future)\n",
    "def calc_cond_variance(theta, dist, returns):\n",
    "    omega = theta[0]\n",
    "    alpha = theta[1]\n",
    "    beta = theta[2]\n",
    "\n",
    "    T = len(returns)\n",
    "    cond_variance = np.zeros(T)\n",
    "    cond_variance[0] = np.var(returns)\n",
    "\n",
    "    for t in range(1, T):\n",
    "        cond_variance[t] = omega + alpha * returns[t-1] **2 + beta * cond_variance[t-1]\n",
    "        \n",
    "    return cond_variance"
   ]
  },
  {
   "cell_type": "code",
   "execution_count": 5,
   "metadata": {
    "cell_id": "5c445431b5114a3a93df02aa1dd930d0",
    "deepnote_cell_type": "code",
    "deepnote_to_be_reexecuted": false,
    "execution_millis": 136,
    "execution_start": 1717236183968,
    "source_hash": null
   },
   "outputs": [],
   "source": [
    "def LLGARCH(theta, dist, returns):\n",
    "    cond_variance = calc_cond_variance(theta, dist, returns)\n",
    "    loglikelihood = np.sum(logpdf(theta, dist, returns, cond_variance))\n",
    "    return -loglikelihood"
   ]
  },
  {
   "cell_type": "code",
   "execution_count": 6,
   "metadata": {
    "cell_id": "5a6b328bdb38438db3dbb4ba0b6bfac6",
    "deepnote_cell_type": "code",
    "deepnote_to_be_reexecuted": false,
    "execution_millis": 135,
    "execution_start": 1717236183969,
    "source_hash": null
   },
   "outputs": [],
   "source": [
    "def constraint(theta, dist, returns):\n",
    "    #alpha + beta < 1 for stationarity, the fmin_slsqp function keeps the value in this array > 0, so alpha + beta < 1\n",
    "    alpha = theta[1]\n",
    "    beta = theta[2]\n",
    "\n",
    "    return(np.array([1-alpha-beta]))"
   ]
  },
  {
   "cell_type": "code",
   "execution_count": 7,
   "metadata": {
    "cell_id": "2a9325e22d9740279567c67d539c70dd",
    "deepnote_cell_type": "code",
    "deepnote_to_be_reexecuted": false,
    "execution_millis": 135,
    "execution_start": 1717236183969,
    "source_hash": null
   },
   "outputs": [],
   "source": [
    "def estimateGARCH(dist, returns):\n",
    "    omega_ini = 0.05\n",
    "    alpha_ini = 0.05\n",
    "    beta_ini = 0.9\n",
    "\n",
    "    omega_bnds = (0, 1)\n",
    "    alpha_bnds = (0, 1)\n",
    "    beta_bnds = (0, 1)\n",
    "\n",
    "    theta_ini = [omega_ini, alpha_ini, beta_ini]\n",
    "    theta_bnds = [omega_bnds, alpha_bnds, beta_bnds]\n",
    "\n",
    "    theta_ML = fmin_slsqp(LLGARCH, theta_ini, bounds=theta_bnds, args=(dist, returns,), f_ieqcons=constraint)\n",
    "\n",
    "    return theta_ML"
   ]
  },
  {
   "cell_type": "code",
   "execution_count": 8,
   "metadata": {
    "cell_id": "351dd2567c87407e847ae6b562c7d9d1",
    "deepnote_cell_type": "code",
    "deepnote_to_be_reexecuted": false,
    "execution_millis": 255,
    "execution_start": 1717236920482,
    "source_hash": null
   },
   "outputs": [],
   "source": [
    "def GARCH(dist, returns):\n",
    "    theta_ML = estimateGARCH(dist, returns)\n",
    "    print(theta_ML)\n",
    "    cond_variance = calc_cond_variance(theta_ML, dist, returns)\n",
    "    \n",
    "    plt.plot(returns, label='returns')\n",
    "    plt.plot(np.sqrt(cond_variance), label='volatility')\n",
    "    plt.title('returns and volatility from GARCH(1, 1)-normal model')\n",
    "    plt.legend()\n",
    "    plt.show()"
   ]
  },
  {
   "cell_type": "code",
   "execution_count": 9,
   "metadata": {
    "cell_id": "b2ed0629890a4a4090d3e6f0bce22c75",
    "deepnote_cell_type": "code",
    "deepnote_to_be_reexecuted": false,
    "execution_millis": 487,
    "execution_start": 1717236929764,
    "source_hash": null
   },
   "outputs": [
    {
     "name": "stdout",
     "output_type": "stream",
     "text": [
      "Optimization terminated successfully    (Exit mode 0)\n",
      "            Current function value: 3251.21495711487\n",
      "            Iterations: 15\n",
      "            Function evaluations: 71\n",
      "            Gradient evaluations: 15\n",
      "[0.00607368 0.0672147  0.92939288]\n"
     ]
    },
    {
     "data": {
      "image/png": "[encoded data removed]",
      "text/plain": [
       "<Figure size 432x288 with 1 Axes>"
      ]
     },
     "metadata": {
      "needs_background": "light"
     },
     "output_type": "display_data"
    }
   ],
   "source": [
    "GARCH('normal', SP500returns)"
   ]
  },
  {
   "cell_type": "markdown",
   "metadata": {
    "created_in_deepnote_cell": true,
    "deepnote_cell_type": "markdown"
   },
   "source": [
    "<a style='text-decoration:none;line-height:16px;display:flex;color:#5B5B62;padding:10px;justify-content:end;' href='https://deepnote.com?utm_source=created-in-deepnote-cell&projectId=f1a4f2a2-4ff8-4218-9ab7-a3794f539d2f' target=\"_blank\">\n",
    "<img alt='Created in deepnote.com' style='display:inline;max-height:16px;margin:0px;margin-right:7.5px;' src='data:image/svg+xml;base64,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' > </img>\n",
    "Created in <span style='font-weight:600;margin-left:4px;'>Deepnote</span></a>"
   ]
  }
 ],
 "metadata": {
  "deepnote_execution_queue": [],
  "deepnote_notebook_id": "b46e2eb5ec46451facd3fef315f7fc94",
  "deepnote_persisted_session": {
   "createdAt": "2024-06-01T10:45:16.260Z"
  },
  "kernelspec": {
   "display_name": "Python 3",
   "language": "python",
   "name": "python3"
  },
  "language_info": {
   "codemirror_mode": {
    "name": "ipython",
    "version": 3
   },
   "file_extension": ".py",
   "mimetype": "text/x-python",
   "name": "python",
   "nbconvert_exporter": "python",
   "pygments_lexer": "ipython3",
   "version": "3.9.12"
  }
 },
 "nbformat": 4,
 "nbformat_minor": 1
}
